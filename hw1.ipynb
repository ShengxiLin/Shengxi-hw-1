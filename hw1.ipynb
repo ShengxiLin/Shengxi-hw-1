{
 "cells": [
  {
   "cell_type": "code",
   "execution_count": null,
   "id": "7cc1058f",
   "metadata": {},
   "outputs": [],
   "source": [
    "import pandas as pd\n",
    "\n",
    "# Load the dataset\n",
    "url = \"https://raw.githubusercontent.com/rfordatascience/tidytuesday/master/data/2020/2020-05-05/villagers.csv\"\n",
    "data = pd.read_csv(url)\n",
    "\n",
    "# Display the first few rows of the dataset\n",
    "print(data.head())\n",
    "\n",
    "# Display the column names\n",
    "print(\"Columns:\", data.columns)\n",
    "\n",
    "# Display the number of rows and columns\n",
    "print(\"Shape of dataset:\", data.shape)\n"
   ]
  },
  {
   "cell_type": "code",
   "execution_count": null,
   "id": "1610b57a",
   "metadata": {},
   "outputs": [],
   "source": [
    "import pandas as pd\n",
    "\n",
    "# Load the dataset if you haven't already\n",
    "data = pd.read_csv('path_to_your_downloaded_file/villagers.csv')\n",
    "\n",
    "# Get the dimensions of the dataset\n",
    "print(\"Shape of dataset:\", data.shape)\n"
   ]
  },
  {
   "cell_type": "code",
   "execution_count": null,
   "id": "453f640f",
   "metadata": {},
   "outputs": [],
   "source": [
    "import pandas as pd\n",
    "\n",
    "# Load the dataset\n",
    "data = pd.read_csv('path_to_your_downloaded_file/villagers.csv')\n",
    "\n",
    "# Get descriptive statistics for numeric columns\n",
    "print(data.describe())\n"
   ]
  },
  {
   "cell_type": "code",
   "execution_count": null,
   "id": "1ed6af13",
   "metadata": {},
   "outputs": [],
   "source": [
    "import pandas as pd\n",
    "\n",
    "# Load the dataset\n",
    "data = pd.read_csv('path_to_your_downloaded_file/villagers.csv')\n",
    "\n",
    "# Replace 'column_name' with the actual name of a categorical column in your dataset\n",
    "print(data['column_name'].value_counts())\n"
   ]
  },
  {
   "cell_type": "code",
   "execution_count": null,
   "id": "6dc399db",
   "metadata": {},
   "outputs": [],
   "source": [
    "import pandas as pd\n",
    "\n",
    "# Load the dataset\n",
    "data = pd.read_csv('path_to_your_downloaded_file/villagers.csv')\n",
    "\n",
    "# Get descriptive statistics for numeric columns\n",
    "print(data.describe())\n",
    "\n",
    "# Get value counts for a categorical column\n",
    "print(data['species'].value_counts())\n"
   ]
  },
  {
   "cell_type": "code",
   "execution_count": null,
   "id": "edcca229",
   "metadata": {},
   "outputs": [],
   "source": [
    "import pandas as pd\n",
    "\n",
    "# Load the dataset\n",
    "data = pd.read_csv('path_to_your_downloaded_file/villagers.csv')\n",
    "\n",
    "# Get descriptive statistics for all columns, including categorical ones\n",
    "print(data.describe(include='all'))\n"
   ]
  },
  {
   "cell_type": "code",
   "execution_count": null,
   "id": "e291bded",
   "metadata": {},
   "outputs": [],
   "source": [
    "import pandas as pd\n",
    "\n",
    "# Load the dataset\n",
    "data = pd.read_csv('path_to_your_downloaded_file/villagers.csv')\n",
    "\n",
    "# Print the column names\n",
    "print(data.columns)\n"
   ]
  },
  {
   "cell_type": "code",
   "execution_count": null,
   "id": "ce223632",
   "metadata": {},
   "outputs": [],
   "source": [
    "import pandas as pd\n",
    "\n",
    "# Load the dataset\n",
    "data = pd.read_csv('path_to_your_downloaded_file/villagers.csv')\n",
    "\n",
    "# Print the shape of the dataset\n",
    "print(\"Shape of dataset:\", data.shape)\n"
   ]
  },
  {
   "cell_type": "code",
   "execution_count": null,
   "id": "07f43f97",
   "metadata": {},
   "outputs": [],
   "source": [
    "import pandas as pd\n",
    "\n",
    "# Load the dataset\n",
    "df = pd.read_csv('path_to_your_downloaded_file/villagers.csv')\n",
    "\n",
    "# Access an attribute\n",
    "print(df.shape)  # Outputs something like (100, 10)\n"
   ]
  },
  {
   "cell_type": "code",
   "execution_count": null,
   "id": "9651c603",
   "metadata": {},
   "outputs": [],
   "source": [
    "import pandas as pd\n",
    "\n",
    "# Load the dataset\n",
    "df = pd.read_csv('path_to_your_downloaded_file/villagers.csv')\n",
    "\n",
    "# Call a method\n",
    "print(df.describe())  # Outputs summary statistics for numeric columns\n"
   ]
  },
  {
   "cell_type": "code",
   "execution_count": null,
   "id": "698cd15d",
   "metadata": {},
   "outputs": [],
   "source": [
    "import pandas as pd\n",
    "\n",
    "# Load the dataset\n",
    "df = pd.read_csv('path_to_your_downloaded_file/villagers.csv')\n",
    "\n",
    "# Remove rows with any missing values\n",
    "df_cleaned_rows = df.dropna()\n"
   ]
  },
  {
   "cell_type": "code",
   "execution_count": null,
   "id": "cc40476b",
   "metadata": {},
   "outputs": [],
   "source": [
    "import pandas as pd\n",
    "\n",
    "# Load the dataset\n",
    "df = pd.read_csv('path_to_your_downloaded_file/villagers.csv')\n",
    "\n",
    "# Remove columns with any missing values\n",
    "df_cleaned_columns = df.dropna(axis=1)\n"
   ]
  },
  {
   "cell_type": "code",
   "execution_count": null,
   "id": "f7144d70",
   "metadata": {},
   "outputs": [],
   "source": [
    "import pandas as pd\n",
    "\n",
    "# Load the dataset\n",
    "df = pd.read_csv('path_to_your_downloaded_file/villagers.csv')\n",
    "\n",
    "# Remove rows where specific columns have missing values\n",
    "df_cleaned_specific = df.dropna(subset=['column1', 'column2'])\n"
   ]
  },
  {
   "cell_type": "code",
   "execution_count": null,
   "id": "47c839ce",
   "metadata": {},
   "outputs": [],
   "source": [
    "import pandas as pd\n",
    "\n",
    "# Example DataFrame\n",
    "data = {\n",
    "    'Name': ['Alice', 'Bob', 'Charlie', 'David'],\n",
    "    'Age': [25, None, 30, 45],\n",
    "    'Salary': [50000, 60000, None, 70000]\n",
    "}\n",
    "\n",
    "df = pd.DataFrame(data)\n",
    "\n",
    "# Remove rows with any missing values\n",
    "df_cleaned_rows = df.dropna()\n"
   ]
  },
  {
   "cell_type": "code",
   "execution_count": null,
   "id": "461ca66a",
   "metadata": {},
   "outputs": [],
   "source": [
    "import pandas as pd\n",
    "\n",
    "# Example DataFrame\n",
    "data = {\n",
    "    'Name': ['Alice', 'Bob', 'Charlie', 'David'],\n",
    "    'Age': [25, None, 30, 45],\n",
    "    'Salary': [50000, None, None, 70000],\n",
    "    'Department': [None, 'HR', 'IT', None]\n",
    "}\n",
    "\n",
    "df = pd.DataFrame(data)\n",
    "\n",
    "# Remove the 'Department' column\n",
    "del df['Department']\n"
   ]
  },
  {
   "cell_type": "code",
   "execution_count": null,
   "id": "3d369ac2",
   "metadata": {},
   "outputs": [],
   "source": [
    "import pandas as pd\n",
    "\n",
    "# Example DataFrame\n",
    "data = {\n",
    "    'Name': ['Alice', 'Bob', 'Charlie', 'David'],\n",
    "    'Age': [25, None, 30, 45],\n",
    "    'Salary': [50000, None, None, 70000],\n",
    "    'Department': [None, 'HR', 'IT', None]\n",
    "}\n",
    "\n",
    "df = pd.DataFrame(data)\n",
    "\n",
    "# Remove the 'Department' column first\n",
    "del df['Department']\n",
    "\n",
    "# Now drop rows with any missing values in the remaining columns\n",
    "df_cleaned = df.dropna()\n"
   ]
  },
  {
   "cell_type": "code",
   "execution_count": null,
   "id": "c5b06b8b",
   "metadata": {},
   "outputs": [],
   "source": [
    "  Name   Age   Salary Department\n",
    "0  Alice  25.0  50000.0       NaN\n",
    "1    Bob   NaN  60000.0         HR\n",
    "2 Charlie 30.0      NaN         IT\n",
    "3  David  45.0  70000.0       NaN\n"
   ]
  },
  {
   "cell_type": "code",
   "execution_count": null,
   "id": "7b52c0a0",
   "metadata": {},
   "outputs": [],
   "source": [
    "  Name   Age   Salary\n",
    "0  Alice  25.0  50000.0\n",
    "1    Bob   NaN  60000.0\n",
    "2 Charlie 30.0      NaN\n",
    "3  David  45.0  70000.0\n"
   ]
  },
  {
   "cell_type": "code",
   "execution_count": null,
   "id": "3c67bed3",
   "metadata": {},
   "outputs": [],
   "source": [
    "  Name   Age   Salary\n",
    "0  Alice  25.0  50000.0\n",
    "3  David  45.0  70000.0\n"
   ]
  },
  {
   "cell_type": "code",
   "execution_count": null,
   "id": "7133f63c",
   "metadata": {},
   "outputs": [],
   "source": [
    "import pandas as pd\n",
    "\n",
    "# Load the dataset\n",
    "url = \"https://raw.githubusercontent.com/mwaskom/seaborn-data/master/titanic.csv\"\n",
    "df = pd.read_csv(url)\n"
   ]
  },
  {
   "cell_type": "code",
   "execution_count": null,
   "id": "3af0f16d",
   "metadata": {},
   "outputs": [],
   "source": [
    "# Display the first few rows\n",
    "print(df.head())\n",
    "\n",
    "# Display column names and data types\n",
    "print(df.info())\n",
    "\n",
    "# Display summary statistics for numeric columns\n",
    "print(df.describe())\n"
   ]
  },
  {
   "cell_type": "code",
   "execution_count": null,
   "id": "56a009ba",
   "metadata": {},
   "outputs": [],
   "source": [
    "# Check for missing values in each column\n",
    "print(df.isna().sum())\n"
   ]
  },
  {
   "cell_type": "code",
   "execution_count": null,
   "id": "c755d4d7",
   "metadata": {},
   "outputs": [],
   "source": [
    "# Remove rows with any missing values\n",
    "df_cleaned_rows = df.dropna()\n",
    "\n",
    "# Remove columns with any missing values\n",
    "df_cleaned_columns = df.dropna(axis=1)\n",
    "\n",
    "# Remove rows with missing values in specific columns\n",
    "df_cleaned_specific = df.dropna(subset=['age', 'embarked'])\n"
   ]
  },
  {
   "cell_type": "code",
   "execution_count": 1,
   "id": "184ed8cb",
   "metadata": {},
   "outputs": [
    {
     "ename": "NameError",
     "evalue": "name 'df' is not defined",
     "output_type": "error",
     "traceback": [
      "\u001b[0;31m---------------------------------------------------------------------------\u001b[0m",
      "\u001b[0;31mNameError\u001b[0m                                 Traceback (most recent call last)",
      "Cell \u001b[0;32mIn[1], line 2\u001b[0m\n\u001b[1;32m      1\u001b[0m \u001b[38;5;66;03m# Get value counts for a categorical column\u001b[39;00m\n\u001b[0;32m----> 2\u001b[0m \u001b[38;5;28mprint\u001b[39m(\u001b[43mdf\u001b[49m[\u001b[38;5;124m'\u001b[39m\u001b[38;5;124membarked\u001b[39m\u001b[38;5;124m'\u001b[39m]\u001b[38;5;241m.\u001b[39mvalue_counts())\n\u001b[1;32m      4\u001b[0m \u001b[38;5;66;03m# Get descriptive statistics for a numeric column\u001b[39;00m\n\u001b[1;32m      5\u001b[0m \u001b[38;5;28mprint\u001b[39m(df[\u001b[38;5;124m'\u001b[39m\u001b[38;5;124mage\u001b[39m\u001b[38;5;124m'\u001b[39m]\u001b[38;5;241m.\u001b[39mdescribe())\n",
      "\u001b[0;31mNameError\u001b[0m: name 'df' is not defined"
     ]
    }
   ],
   "source": [
    "# Get value counts for a categorical column\n",
    "print(df['embarked'].value_counts())\n",
    "\n",
    "# Get descriptive statistics for a numeric column\n",
    "print(df['age'].describe())\n"
   ]
  },
  {
   "cell_type": "code",
   "execution_count": null,
   "id": "4b8adc09",
   "metadata": {},
   "outputs": [],
   "source": []
  }
 ],
 "metadata": {
  "kernelspec": {
   "display_name": "Python 3 (ipykernel)",
   "language": "python",
   "name": "python3"
  },
  "language_info": {
   "codemirror_mode": {
    "name": "ipython",
    "version": 3
   },
   "file_extension": ".py",
   "mimetype": "text/x-python",
   "name": "python",
   "nbconvert_exporter": "python",
   "pygments_lexer": "ipython3",
   "version": "3.11.6"
  }
 },
 "nbformat": 4,
 "nbformat_minor": 5
}
